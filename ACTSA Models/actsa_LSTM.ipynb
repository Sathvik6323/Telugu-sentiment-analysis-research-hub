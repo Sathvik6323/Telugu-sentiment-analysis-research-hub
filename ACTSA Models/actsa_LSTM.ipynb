{
 "cells": [
  {
   "cell_type": "markdown",
   "metadata": {
    "colab_type": "text",
    "id": "view-in-github"
   },
   "source": [
    "<a href=\"https://colab.research.google.com/github/SourabhMagadum/Hindi-Sentiment-Analysis/blob/master/Hindi_sentiment_analysis%20best.ipynb\" target=\"_parent\"><img src=\"https://colab.research.google.com/assets/colab-badge.svg\" alt=\"Open In Colab\"/></a>"
   ]
  },
  {
   "cell_type": "code",
   "execution_count": 14,
   "metadata": {
    "colab": {
     "base_uri": "https://localhost:8080/",
     "height": 80
    },
    "colab_type": "code",
    "execution": {
     "iopub.execute_input": "2024-05-04T10:49:50.794698Z",
     "iopub.status.busy": "2024-05-04T10:49:50.794294Z",
     "iopub.status.idle": "2024-05-04T10:49:50.802291Z",
     "shell.execute_reply": "2024-05-04T10:49:50.801203Z",
     "shell.execute_reply.started": "2024-05-04T10:49:50.794669Z"
    },
    "id": "gxbgrTR5-t7r",
    "outputId": "cf4515f8-2ef0-4f00-b740-0fcfd8e84ec9"
   },
   "outputs": [],
   "source": [
    "import pandas as pd\n",
    "import numpy as np\n",
    "import matplotlib.pyplot as plt\n",
    "from sklearn.preprocessing import OneHotEncoder\n",
    "from sklearn.model_selection import train_test_split\n",
    "# from tensorflow.python.keras import Sequential\n",
    "from keras.layers import  Dense, Embedding, LSTM, Bidirectional,GRU\n",
    "# from tensorflow.python.keras.layers import Dense, Embedding, LSTM, GRU \n",
    "#\n",
    "from tensorflow.keras.layers import Dense, Input\n",
    "from tensorflow.keras import Sequential\n",
    "from tensorflow.keras.activations import sigmoid\n",
    "#\n",
    "from tensorflow.keras.preprocessing.text import Tokenizer\n",
    "from tensorflow.keras.preprocessing.sequence import pad_sequences\n",
    "from tensorflow import keras\n",
    "from sklearn.preprocessing import LabelEncoder\n",
    "from keras import optimizers\n",
    "from keras import layers\n",
    "# from tensorflow.python.keras import layers\n",
    "import tensorflow as tf"
   ]
  },
  {
   "cell_type": "code",
   "execution_count": 15,
   "metadata": {
    "execution": {
     "iopub.execute_input": "2024-05-04T10:49:51.937770Z",
     "iopub.status.busy": "2024-05-04T10:49:51.937385Z",
     "iopub.status.idle": "2024-05-04T10:49:51.983299Z",
     "shell.execute_reply": "2024-05-04T10:49:51.982385Z",
     "shell.execute_reply.started": "2024-05-04T10:49:51.937740Z"
    }
   },
   "outputs": [],
   "source": [
    "import pandas as pd\n",
    "\n",
    "# Assuming your CSV file is named 'HINDI_dataset.csv' in the same directory\n",
    "df = pd.read_csv(\"/kaggle/input/actsa-lstm/data_with_sentiment_labels.csv\", names=[\"review\", \"sentiment\"],encoding='UTF-8')\n",
    "df = df.dropna()\n",
    "len(df['review'])\n",
    "# Display the first few rows of the DataFrame\n",
    "df = df.iloc[1:] "
   ]
  },
  {
   "cell_type": "code",
   "execution_count": 16,
   "metadata": {
    "colab": {
     "base_uri": "https://localhost:8080/",
     "height": 204
    },
    "colab_type": "code",
    "execution": {
     "iopub.execute_input": "2024-05-04T10:49:53.177014Z",
     "iopub.status.busy": "2024-05-04T10:49:53.176250Z",
     "iopub.status.idle": "2024-05-04T10:49:53.189621Z",
     "shell.execute_reply": "2024-05-04T10:49:53.188494Z",
     "shell.execute_reply.started": "2024-05-04T10:49:53.176969Z"
    },
    "id": "TuyzqoczAc4J",
    "outputId": "8b71f70e-d789-4f42-c795-a80ff3646749"
   },
   "outputs": [
    {
     "data": {
      "text/html": [
       "<div>\n",
       "<style scoped>\n",
       "    .dataframe tbody tr th:only-of-type {\n",
       "        vertical-align: middle;\n",
       "    }\n",
       "\n",
       "    .dataframe tbody tr th {\n",
       "        vertical-align: top;\n",
       "    }\n",
       "\n",
       "    .dataframe thead th {\n",
       "        text-align: right;\n",
       "    }\n",
       "</style>\n",
       "<table border=\"1\" class=\"dataframe\">\n",
       "  <thead>\n",
       "    <tr style=\"text-align: right;\">\n",
       "      <th></th>\n",
       "      <th>review</th>\n",
       "      <th>sentiment</th>\n",
       "    </tr>\n",
       "  </thead>\n",
       "  <tbody>\n",
       "    <tr>\n",
       "      <th>1</th>\n",
       "      <td>పరువునష్టాన్ని కలిగించే చర్యలను 1860 నాటి భారత...</td>\n",
       "      <td>neutral</td>\n",
       "    </tr>\n",
       "    <tr>\n",
       "      <th>2</th>\n",
       "      <td>వాహనంలో ఉన్న పోలీసు సిబ్బందికి బుల్లెట్ ప్రూఫ్...</td>\n",
       "      <td>positive</td>\n",
       "    </tr>\n",
       "    <tr>\n",
       "      <th>3</th>\n",
       "      <td>దేశంపట్ల కానీ, ప్రజలపట్ల కానీ బాధ్యత కనిపించదు.</td>\n",
       "      <td>negative</td>\n",
       "    </tr>\n",
       "    <tr>\n",
       "      <th>4</th>\n",
       "      <td>ఒక పనిమనిషి కుమారుడు ఈ దేశ ప్రధాని కావడం అంబేద...</td>\n",
       "      <td>neutral</td>\n",
       "    </tr>\n",
       "    <tr>\n",
       "      <th>5</th>\n",
       "      <td>మత ప్రాతిపదికన మనుషుల్ని రెచ్చగొట్టే ఉగ్రవాదం ...</td>\n",
       "      <td>neutral</td>\n",
       "    </tr>\n",
       "  </tbody>\n",
       "</table>\n",
       "</div>"
      ],
      "text/plain": [
       "                                              review sentiment\n",
       "1  పరువునష్టాన్ని కలిగించే చర్యలను 1860 నాటి భారత...   neutral\n",
       "2  వాహనంలో ఉన్న పోలీసు సిబ్బందికి బుల్లెట్ ప్రూఫ్...  positive\n",
       "3    దేశంపట్ల కానీ, ప్రజలపట్ల కానీ బాధ్యత కనిపించదు.  negative\n",
       "4  ఒక పనిమనిషి కుమారుడు ఈ దేశ ప్రధాని కావడం అంబేద...   neutral\n",
       "5  మత ప్రాతిపదికన మనుషుల్ని రెచ్చగొట్టే ఉగ్రవాదం ...   neutral"
      ]
     },
     "execution_count": 16,
     "metadata": {},
     "output_type": "execute_result"
    }
   ],
   "source": [
    "df.head()"
   ]
  },
  {
   "cell_type": "code",
   "execution_count": 17,
   "metadata": {
    "execution": {
     "iopub.execute_input": "2024-05-04T10:49:56.993136Z",
     "iopub.status.busy": "2024-05-04T10:49:56.992753Z",
     "iopub.status.idle": "2024-05-04T10:49:57.005264Z",
     "shell.execute_reply": "2024-05-04T10:49:57.004160Z",
     "shell.execute_reply.started": "2024-05-04T10:49:56.993107Z"
    }
   },
   "outputs": [
    {
     "name": "stdout",
     "output_type": "stream",
     "text": [
      "1        neutral\n",
      "2       positive\n",
      "3       negative\n",
      "4        neutral\n",
      "5        neutral\n",
      "          ...   \n",
      "5406    positive\n",
      "5407     neutral\n",
      "5408    positive\n",
      "5409     neutral\n",
      "5410     neutral\n",
      "Name: sentiment, Length: 5410, dtype: object\n"
     ]
    }
   ],
   "source": [
    "print(df[\"sentiment\"])\n",
    "df[\"sentiment\"] = [0 if i== \"negative\" else 1 if i==\"positive\" else 2 for i in df[\"sentiment\"]]"
   ]
  },
  {
   "cell_type": "code",
   "execution_count": 18,
   "metadata": {
    "execution": {
     "iopub.execute_input": "2024-05-04T10:49:57.876664Z",
     "iopub.status.busy": "2024-05-04T10:49:57.876281Z",
     "iopub.status.idle": "2024-05-04T10:49:57.886644Z",
     "shell.execute_reply": "2024-05-04T10:49:57.885496Z",
     "shell.execute_reply.started": "2024-05-04T10:49:57.876636Z"
    }
   },
   "outputs": [
    {
     "data": {
      "text/html": [
       "<div>\n",
       "<style scoped>\n",
       "    .dataframe tbody tr th:only-of-type {\n",
       "        vertical-align: middle;\n",
       "    }\n",
       "\n",
       "    .dataframe tbody tr th {\n",
       "        vertical-align: top;\n",
       "    }\n",
       "\n",
       "    .dataframe thead th {\n",
       "        text-align: right;\n",
       "    }\n",
       "</style>\n",
       "<table border=\"1\" class=\"dataframe\">\n",
       "  <thead>\n",
       "    <tr style=\"text-align: right;\">\n",
       "      <th></th>\n",
       "      <th>review</th>\n",
       "      <th>sentiment</th>\n",
       "    </tr>\n",
       "  </thead>\n",
       "  <tbody>\n",
       "    <tr>\n",
       "      <th>1</th>\n",
       "      <td>పరువునష్టాన్ని కలిగించే చర్యలను 1860 నాటి భారత...</td>\n",
       "      <td>2</td>\n",
       "    </tr>\n",
       "    <tr>\n",
       "      <th>2</th>\n",
       "      <td>వాహనంలో ఉన్న పోలీసు సిబ్బందికి బుల్లెట్ ప్రూఫ్...</td>\n",
       "      <td>1</td>\n",
       "    </tr>\n",
       "    <tr>\n",
       "      <th>3</th>\n",
       "      <td>దేశంపట్ల కానీ, ప్రజలపట్ల కానీ బాధ్యత కనిపించదు.</td>\n",
       "      <td>0</td>\n",
       "    </tr>\n",
       "    <tr>\n",
       "      <th>4</th>\n",
       "      <td>ఒక పనిమనిషి కుమారుడు ఈ దేశ ప్రధాని కావడం అంబేద...</td>\n",
       "      <td>2</td>\n",
       "    </tr>\n",
       "    <tr>\n",
       "      <th>5</th>\n",
       "      <td>మత ప్రాతిపదికన మనుషుల్ని రెచ్చగొట్టే ఉగ్రవాదం ...</td>\n",
       "      <td>2</td>\n",
       "    </tr>\n",
       "  </tbody>\n",
       "</table>\n",
       "</div>"
      ],
      "text/plain": [
       "                                              review  sentiment\n",
       "1  పరువునష్టాన్ని కలిగించే చర్యలను 1860 నాటి భారత...          2\n",
       "2  వాహనంలో ఉన్న పోలీసు సిబ్బందికి బుల్లెట్ ప్రూఫ్...          1\n",
       "3    దేశంపట్ల కానీ, ప్రజలపట్ల కానీ బాధ్యత కనిపించదు.          0\n",
       "4  ఒక పనిమనిషి కుమారుడు ఈ దేశ ప్రధాని కావడం అంబేద...          2\n",
       "5  మత ప్రాతిపదికన మనుషుల్ని రెచ్చగొట్టే ఉగ్రవాదం ...          2"
      ]
     },
     "execution_count": 18,
     "metadata": {},
     "output_type": "execute_result"
    }
   ],
   "source": [
    "df.head()"
   ]
  },
  {
   "cell_type": "code",
   "execution_count": 19,
   "metadata": {
    "colab": {
     "base_uri": "https://localhost:8080/",
     "height": 34
    },
    "colab_type": "code",
    "execution": {
     "iopub.execute_input": "2024-05-04T10:49:58.671853Z",
     "iopub.status.busy": "2024-05-04T10:49:58.671060Z",
     "iopub.status.idle": "2024-05-04T10:49:58.679104Z",
     "shell.execute_reply": "2024-05-04T10:49:58.677910Z",
     "shell.execute_reply.started": "2024-05-04T10:49:58.671820Z"
    },
    "id": "i_mSkGSsA12b",
    "outputId": "eb2c63a7-6a23-4a67-a0ea-99d2e24e740b"
   },
   "outputs": [
    {
     "data": {
      "text/plain": [
       "(5410, 2)"
      ]
     },
     "execution_count": 19,
     "metadata": {},
     "output_type": "execute_result"
    }
   ],
   "source": [
    "df.shape"
   ]
  },
  {
   "cell_type": "code",
   "execution_count": 20,
   "metadata": {
    "colab": {},
    "colab_type": "code",
    "execution": {
     "iopub.execute_input": "2024-05-04T10:49:59.968342Z",
     "iopub.status.busy": "2024-05-04T10:49:59.967909Z",
     "iopub.status.idle": "2024-05-04T10:49:59.975594Z",
     "shell.execute_reply": "2024-05-04T10:49:59.974261Z",
     "shell.execute_reply.started": "2024-05-04T10:49:59.968296Z"
    },
    "id": "hpqLRMiiJJWm"
   },
   "outputs": [],
   "source": [
    "y = df[\"sentiment\"]\n",
    "X = df.drop([\"sentiment\"], axis = 1)"
   ]
  },
  {
   "cell_type": "code",
   "execution_count": 21,
   "metadata": {
    "colab": {
     "base_uri": "https://localhost:8080/",
     "height": 204
    },
    "colab_type": "code",
    "execution": {
     "iopub.execute_input": "2024-05-04T10:50:01.732868Z",
     "iopub.status.busy": "2024-05-04T10:50:01.732476Z",
     "iopub.status.idle": "2024-05-04T10:50:01.748837Z",
     "shell.execute_reply": "2024-05-04T10:50:01.747946Z",
     "shell.execute_reply.started": "2024-05-04T10:50:01.732823Z"
    },
    "id": "Kq9LdZSMBWKV",
    "outputId": "58d45d99-41ad-4db6-8bb5-f66678b2f03a"
   },
   "outputs": [
    {
     "data": {
      "text/html": [
       "<div>\n",
       "<style scoped>\n",
       "    .dataframe tbody tr th:only-of-type {\n",
       "        vertical-align: middle;\n",
       "    }\n",
       "\n",
       "    .dataframe tbody tr th {\n",
       "        vertical-align: top;\n",
       "    }\n",
       "\n",
       "    .dataframe thead th {\n",
       "        text-align: right;\n",
       "    }\n",
       "</style>\n",
       "<table border=\"1\" class=\"dataframe\">\n",
       "  <thead>\n",
       "    <tr style=\"text-align: right;\">\n",
       "      <th></th>\n",
       "      <th>review</th>\n",
       "    </tr>\n",
       "  </thead>\n",
       "  <tbody>\n",
       "    <tr>\n",
       "      <th>2007</th>\n",
       "      <td>ఐదేళ్లలో మరమ్మతులు పూర్తిచేస్తామని పేర్కొన్నారు.</td>\n",
       "    </tr>\n",
       "    <tr>\n",
       "      <th>4461</th>\n",
       "      <td>కానీ, బ్యాంకులు కూడా తమను కాపాడుకోవడానికి అంతే...</td>\n",
       "    </tr>\n",
       "    <tr>\n",
       "      <th>2688</th>\n",
       "      <td>ఏటా నమోదవుతున్న యాభై అరవైవేల కేసులు దోమల నివార...</td>\n",
       "    </tr>\n",
       "    <tr>\n",
       "      <th>1194</th>\n",
       "      <td>ఈ ఏడాది వర్షాలు సకాలంలో దండిగా కురవాలి.</td>\n",
       "    </tr>\n",
       "    <tr>\n",
       "      <th>3037</th>\n",
       "      <td>చాలా వర్గాల్లో నిర్లిప్తత చోటు చేసుకున్నది.</td>\n",
       "    </tr>\n",
       "  </tbody>\n",
       "</table>\n",
       "</div>"
      ],
      "text/plain": [
       "                                                 review\n",
       "2007   ఐదేళ్లలో మరమ్మతులు పూర్తిచేస్తామని పేర్కొన్నారు.\n",
       "4461  కానీ, బ్యాంకులు కూడా తమను కాపాడుకోవడానికి అంతే...\n",
       "2688  ఏటా నమోదవుతున్న యాభై అరవైవేల కేసులు దోమల నివార...\n",
       "1194            ఈ ఏడాది వర్షాలు సకాలంలో దండిగా కురవాలి.\n",
       "3037        చాలా వర్గాల్లో నిర్లిప్తత చోటు చేసుకున్నది."
      ]
     },
     "execution_count": 21,
     "metadata": {},
     "output_type": "execute_result"
    }
   ],
   "source": [
    "# 70/15/15 train/test/val split\n",
    "X_train, X_test, y_train, y_test = train_test_split(X, y, test_size=0.15, random_state=1)\n",
    "X_train, X_val, y_train, y_val = train_test_split(X_train, y_train, test_size=0.15, random_state=1)\n",
    "\n",
    "X_train.head()"
   ]
  },
  {
   "cell_type": "code",
   "execution_count": 23,
   "metadata": {
    "colab": {},
    "colab_type": "code",
    "execution": {
     "iopub.execute_input": "2024-05-04T10:50:23.047859Z",
     "iopub.status.busy": "2024-05-04T10:50:23.046661Z",
     "iopub.status.idle": "2024-05-04T10:50:23.468875Z",
     "shell.execute_reply": "2024-05-04T10:50:23.467716Z",
     "shell.execute_reply.started": "2024-05-04T10:50:23.047811Z"
    },
    "id": "ScF16hE0S8Z9"
   },
   "outputs": [],
   "source": [
    "tk = Tokenizer(filters='!\"#$%&()*+,-./:;<=>?@[\\]^_`{\"}~\\t\\n')\n",
    "\n",
    "\n",
    "tk.fit_on_texts(X['review'])\n",
    "\n",
    "# + 1 for unknown token\n",
    "vocab_size = len(tk.word_index) +1\n",
    "\n",
    "X_train_seq = tk.texts_to_sequences(X_train['review'])\n",
    "X_test_seq = tk.texts_to_sequences(X_test['review'])\n",
    "X_val_seq = tk.texts_to_sequences(X_val['review'])\n",
    "# Initializing max length of sentence to 20 words\n",
    "max_length = 20"
   ]
  },
  {
   "cell_type": "code",
   "execution_count": 24,
   "metadata": {
    "execution": {
     "iopub.execute_input": "2024-05-04T10:50:25.623916Z",
     "iopub.status.busy": "2024-05-04T10:50:25.623224Z",
     "iopub.status.idle": "2024-05-04T10:50:25.631245Z",
     "shell.execute_reply": "2024-05-04T10:50:25.630362Z",
     "shell.execute_reply.started": "2024-05-04T10:50:25.623876Z"
    }
   },
   "outputs": [
    {
     "data": {
      "text/plain": [
       "24706"
      ]
     },
     "execution_count": 24,
     "metadata": {},
     "output_type": "execute_result"
    }
   ],
   "source": [
    "vocab_size"
   ]
  },
  {
   "cell_type": "code",
   "execution_count": 26,
   "metadata": {
    "colab": {
     "base_uri": "https://localhost:8080/",
     "height": 1000
    },
    "colab_type": "code",
    "execution": {
     "iopub.execute_input": "2024-05-04T10:50:31.115892Z",
     "iopub.status.busy": "2024-05-04T10:50:31.115120Z",
     "iopub.status.idle": "2024-05-04T10:50:31.120675Z",
     "shell.execute_reply": "2024-05-04T10:50:31.119621Z",
     "shell.execute_reply.started": "2024-05-04T10:50:31.115850Z"
    },
    "id": "UreIQTGecPOI",
    "outputId": "835b4b05-aab0-42af-8560-76b9793ad1dc"
   },
   "outputs": [],
   "source": [
    "# tk.word_index"
   ]
  },
  {
   "cell_type": "code",
   "execution_count": 27,
   "metadata": {
    "colab": {
     "base_uri": "https://localhost:8080/",
     "height": 34
    },
    "colab_type": "code",
    "execution": {
     "iopub.execute_input": "2024-05-04T10:50:32.835213Z",
     "iopub.status.busy": "2024-05-04T10:50:32.834597Z",
     "iopub.status.idle": "2024-05-04T10:50:32.840694Z",
     "shell.execute_reply": "2024-05-04T10:50:32.839443Z",
     "shell.execute_reply.started": "2024-05-04T10:50:32.835179Z"
    },
    "id": "G0fHuNn8clLk",
    "outputId": "9aa54b9c-d3b5-4c41-f885-f2cb9b13df25"
   },
   "outputs": [
    {
     "name": "stdout",
     "output_type": "stream",
     "text": [
      "24706\n"
     ]
    }
   ],
   "source": [
    "print(vocab_size)\n"
   ]
  },
  {
   "cell_type": "code",
   "execution_count": 28,
   "metadata": {
    "colab": {
     "base_uri": "https://localhost:8080/",
     "height": 1000
    },
    "colab_type": "code",
    "execution": {
     "iopub.execute_input": "2024-05-04T10:50:38.355728Z",
     "iopub.status.busy": "2024-05-04T10:50:38.355338Z",
     "iopub.status.idle": "2024-05-04T10:50:38.360583Z",
     "shell.execute_reply": "2024-05-04T10:50:38.359392Z",
     "shell.execute_reply.started": "2024-05-04T10:50:38.355700Z"
    },
    "id": "X_bXPd9Kd0Ph",
    "outputId": "ae8c362e-c3cb-4958-8e9b-528241fcce4b"
   },
   "outputs": [],
   "source": [
    "# X_train_seq"
   ]
  },
  {
   "cell_type": "code",
   "execution_count": 29,
   "metadata": {
    "colab": {},
    "colab_type": "code",
    "execution": {
     "iopub.execute_input": "2024-05-04T10:50:41.326643Z",
     "iopub.status.busy": "2024-05-04T10:50:41.325403Z",
     "iopub.status.idle": "2024-05-04T10:50:41.363622Z",
     "shell.execute_reply": "2024-05-04T10:50:41.362693Z",
     "shell.execute_reply.started": "2024-05-04T10:50:41.326580Z"
    },
    "id": "iLO5BDDaffdU"
   },
   "outputs": [],
   "source": [
    "#padding the sequences to make all the input sequences of the same length\n",
    "\n",
    "X_train_seq_pad = pad_sequences(X_train_seq, maxlen=max_length, padding='post')\n",
    "X_test_seq_pad = pad_sequences(X_test_seq, maxlen=max_length,padding='post')\n",
    "X_val_seq_pad = pad_sequences(X_val_seq, maxlen=max_length,padding='post')\n"
   ]
  },
  {
   "cell_type": "code",
   "execution_count": 30,
   "metadata": {
    "execution": {
     "iopub.execute_input": "2024-05-04T10:50:42.313258Z",
     "iopub.status.busy": "2024-05-04T10:50:42.312859Z",
     "iopub.status.idle": "2024-05-04T10:50:42.320158Z",
     "shell.execute_reply": "2024-05-04T10:50:42.318997Z",
     "shell.execute_reply.started": "2024-05-04T10:50:42.313226Z"
    }
   },
   "outputs": [],
   "source": [
    "from tensorflow.keras.utils import to_categorical\n"
   ]
  },
  {
   "cell_type": "code",
   "execution_count": 31,
   "metadata": {
    "colab": {},
    "colab_type": "code",
    "execution": {
     "iopub.execute_input": "2024-05-04T10:50:43.149230Z",
     "iopub.status.busy": "2024-05-04T10:50:43.148032Z",
     "iopub.status.idle": "2024-05-04T10:50:43.160118Z",
     "shell.execute_reply": "2024-05-04T10:50:43.158881Z",
     "shell.execute_reply.started": "2024-05-04T10:50:43.149187Z"
    },
    "id": "xNDBIRzEpkpr"
   },
   "outputs": [],
   "source": [
    "\n",
    "le = LabelEncoder()\n",
    "y_train_le = le.fit_transform(y_train)\n",
    "y_test_le = le.transform(y_test)\n",
    "y_val_le = le.transform(y_val)\n",
    "y_train_oh = to_categorical(y_train_le)\n",
    "y_test_oh = to_categorical(y_test_le)\n",
    "y_val_oh = to_categorical(y_val_le)"
   ]
  },
  {
   "cell_type": "code",
   "execution_count": 32,
   "metadata": {
    "execution": {
     "iopub.execute_input": "2024-05-04T10:50:44.563930Z",
     "iopub.status.busy": "2024-05-04T10:50:44.563209Z",
     "iopub.status.idle": "2024-05-04T10:50:44.569101Z",
     "shell.execute_reply": "2024-05-04T10:50:44.568375Z",
     "shell.execute_reply.started": "2024-05-04T10:50:44.563896Z"
    }
   },
   "outputs": [
    {
     "data": {
      "text/plain": [
       "array([2, 0, 0, ..., 2, 0, 2])"
      ]
     },
     "execution_count": 32,
     "metadata": {},
     "output_type": "execute_result"
    }
   ],
   "source": [
    "y_train_le"
   ]
  },
  {
   "cell_type": "code",
   "execution_count": 33,
   "metadata": {
    "execution": {
     "iopub.execute_input": "2024-05-04T10:50:45.365676Z",
     "iopub.status.busy": "2024-05-04T10:50:45.365196Z",
     "iopub.status.idle": "2024-05-04T10:50:45.373466Z",
     "shell.execute_reply": "2024-05-04T10:50:45.372345Z",
     "shell.execute_reply.started": "2024-05-04T10:50:45.365604Z"
    },
    "scrolled": true
   },
   "outputs": [
    {
     "data": {
      "text/plain": [
       "array([[ 2764,  1981, 14129, ...,     0,     0,     0],\n",
       "       [    9,  1289,     2, ...,     0,     0,     0],\n",
       "       [  892, 16249,  4305, ...,     0,     0,     0],\n",
       "       ...,\n",
       "       [ 9778,   480,  2866, ...,  9782,  1484,    25],\n",
       "       [ 1586,  2393,  8069, ...,     0,     0,     0],\n",
       "       [  216,  5222,   815, ...,     0,     0,     0]], dtype=int32)"
      ]
     },
     "execution_count": 33,
     "metadata": {},
     "output_type": "execute_result"
    }
   ],
   "source": [
    "X_train_seq_pad"
   ]
  },
  {
   "cell_type": "code",
   "execution_count": 37,
   "metadata": {
    "execution": {
     "iopub.execute_input": "2024-05-04T10:51:17.716481Z",
     "iopub.status.busy": "2024-05-04T10:51:17.715340Z",
     "iopub.status.idle": "2024-05-04T10:51:17.721521Z",
     "shell.execute_reply": "2024-05-04T10:51:17.720373Z",
     "shell.execute_reply.started": "2024-05-04T10:51:17.716437Z"
    }
   },
   "outputs": [],
   "source": [
    "from tensorflow.keras.callbacks import EarlyStopping"
   ]
  },
  {
   "cell_type": "code",
   "execution_count": 38,
   "metadata": {
    "execution": {
     "iopub.execute_input": "2024-05-04T10:51:18.756797Z",
     "iopub.status.busy": "2024-05-04T10:51:18.756422Z",
     "iopub.status.idle": "2024-05-04T10:51:18.775947Z",
     "shell.execute_reply": "2024-05-04T10:51:18.774917Z",
     "shell.execute_reply.started": "2024-05-04T10:51:18.756772Z"
    }
   },
   "outputs": [],
   "source": [
    "emb_dims = 256\n",
    "model = Sequential()\n",
    "model.add(Embedding(vocab_size, emb_dims,  embeddings_regularizer=tf.keras.regularizers.l2(0.0001)))\n",
    "model.add(LSTM(units=16, dropout=0.3, recurrent_dropout=0.3))\n",
    "model.add(Dense(3, activation='softmax'))\n",
    "early_stopping = EarlyStopping(monitor='val_loss', patience=5)\n",
    "model.compile(loss='categorical_crossentropy', optimizer='adam', metrics=['accuracy'])"
   ]
  },
  {
   "cell_type": "code",
   "execution_count": 39,
   "metadata": {
    "execution": {
     "iopub.execute_input": "2024-05-04T10:51:21.763054Z",
     "iopub.status.busy": "2024-05-04T10:51:21.762600Z",
     "iopub.status.idle": "2024-05-04T10:52:29.913773Z",
     "shell.execute_reply": "2024-05-04T10:52:29.912838Z",
     "shell.execute_reply.started": "2024-05-04T10:51:21.763020Z"
    }
   },
   "outputs": [
    {
     "name": "stdout",
     "output_type": "stream",
     "text": [
      "Epoch 1/32\n",
      "\u001b[1m31/31\u001b[0m \u001b[32m━━━━━━━━━━━━━━━━━━━━\u001b[0m\u001b[37m\u001b[0m \u001b[1m5s\u001b[0m 71ms/step - accuracy: 0.4103 - loss: 1.4634 - val_accuracy: 0.4783 - val_loss: 1.1442\n",
      "Epoch 2/32\n",
      "\u001b[1m31/31\u001b[0m \u001b[32m━━━━━━━━━━━━━━━━━━━━\u001b[0m\u001b[37m\u001b[0m \u001b[1m2s\u001b[0m 58ms/step - accuracy: 0.4548 - loss: 1.1235 - val_accuracy: 0.4812 - val_loss: 1.0696\n",
      "Epoch 3/32\n",
      "\u001b[1m31/31\u001b[0m \u001b[32m━━━━━━━━━━━━━━━━━━━━\u001b[0m\u001b[37m\u001b[0m \u001b[1m3s\u001b[0m 57ms/step - accuracy: 0.4762 - loss: 1.0593 - val_accuracy: 0.4957 - val_loss: 1.0458\n",
      "Epoch 4/32\n",
      "\u001b[1m31/31\u001b[0m \u001b[32m━━━━━━━━━━━━━━━━━━━━\u001b[0m\u001b[37m\u001b[0m \u001b[1m2s\u001b[0m 56ms/step - accuracy: 0.6021 - loss: 0.9220 - val_accuracy: 0.5174 - val_loss: 1.0755\n",
      "Epoch 5/32\n",
      "\u001b[1m31/31\u001b[0m \u001b[32m━━━━━━━━━━━━━━━━━━━━\u001b[0m\u001b[37m\u001b[0m \u001b[1m2s\u001b[0m 58ms/step - accuracy: 0.8160 - loss: 0.5894 - val_accuracy: 0.4986 - val_loss: 1.3222\n",
      "Epoch 6/32\n",
      "\u001b[1m31/31\u001b[0m \u001b[32m━━━━━━━━━━━━━━━━━━━━\u001b[0m\u001b[37m\u001b[0m \u001b[1m2s\u001b[0m 57ms/step - accuracy: 0.9291 - loss: 0.3593 - val_accuracy: 0.4986 - val_loss: 1.5825\n",
      "Epoch 7/32\n",
      "\u001b[1m31/31\u001b[0m \u001b[32m━━━━━━━━━━━━━━━━━━━━\u001b[0m\u001b[37m\u001b[0m \u001b[1m3s\u001b[0m 63ms/step - accuracy: 0.9494 - loss: 0.2757 - val_accuracy: 0.5217 - val_loss: 1.6412\n",
      "Epoch 8/32\n",
      "\u001b[1m31/31\u001b[0m \u001b[32m━━━━━━━━━━━━━━━━━━━━\u001b[0m\u001b[37m\u001b[0m \u001b[1m2s\u001b[0m 57ms/step - accuracy: 0.9611 - loss: 0.2312 - val_accuracy: 0.5072 - val_loss: 1.7819\n",
      "Epoch 9/32\n",
      "\u001b[1m31/31\u001b[0m \u001b[32m━━━━━━━━━━━━━━━━━━━━\u001b[0m\u001b[37m\u001b[0m \u001b[1m2s\u001b[0m 57ms/step - accuracy: 0.9714 - loss: 0.1838 - val_accuracy: 0.5116 - val_loss: 1.9547\n",
      "Epoch 10/32\n",
      "\u001b[1m31/31\u001b[0m \u001b[32m━━━━━━━━━━━━━━━━━━━━\u001b[0m\u001b[37m\u001b[0m \u001b[1m3s\u001b[0m 61ms/step - accuracy: 0.9700 - loss: 0.1946 - val_accuracy: 0.5188 - val_loss: 1.9681\n",
      "Epoch 11/32\n",
      "\u001b[1m31/31\u001b[0m \u001b[32m━━━━━━━━━━━━━━━━━━━━\u001b[0m\u001b[37m\u001b[0m \u001b[1m2s\u001b[0m 58ms/step - accuracy: 0.9772 - loss: 0.1622 - val_accuracy: 0.5116 - val_loss: 2.0041\n",
      "Epoch 12/32\n",
      "\u001b[1m31/31\u001b[0m \u001b[32m━━━━━━━━━━━━━━━━━━━━\u001b[0m\u001b[37m\u001b[0m \u001b[1m2s\u001b[0m 56ms/step - accuracy: 0.9758 - loss: 0.1614 - val_accuracy: 0.4884 - val_loss: 2.1174\n",
      "Epoch 13/32\n",
      "\u001b[1m31/31\u001b[0m \u001b[32m━━━━━━━━━━━━━━━━━━━━\u001b[0m\u001b[37m\u001b[0m \u001b[1m2s\u001b[0m 60ms/step - accuracy: 0.9818 - loss: 0.1502 - val_accuracy: 0.4754 - val_loss: 2.1172\n",
      "Epoch 14/32\n",
      "\u001b[1m31/31\u001b[0m \u001b[32m━━━━━━━━━━━━━━━━━━━━\u001b[0m\u001b[37m\u001b[0m \u001b[1m2s\u001b[0m 56ms/step - accuracy: 0.9734 - loss: 0.1590 - val_accuracy: 0.5101 - val_loss: 2.1177\n",
      "Epoch 15/32\n",
      "\u001b[1m31/31\u001b[0m \u001b[32m━━━━━━━━━━━━━━━━━━━━\u001b[0m\u001b[37m\u001b[0m \u001b[1m2s\u001b[0m 57ms/step - accuracy: 0.9818 - loss: 0.1378 - val_accuracy: 0.4986 - val_loss: 2.2049\n",
      "Epoch 16/32\n",
      "\u001b[1m31/31\u001b[0m \u001b[32m━━━━━━━━━━━━━━━━━━━━\u001b[0m\u001b[37m\u001b[0m \u001b[1m2s\u001b[0m 57ms/step - accuracy: 0.9845 - loss: 0.1354 - val_accuracy: 0.5072 - val_loss: 2.1519\n",
      "Epoch 17/32\n",
      "\u001b[1m31/31\u001b[0m \u001b[32m━━━━━━━━━━━━━━━━━━━━\u001b[0m\u001b[37m\u001b[0m \u001b[1m2s\u001b[0m 61ms/step - accuracy: 0.9875 - loss: 0.1237 - val_accuracy: 0.5014 - val_loss: 2.2790\n",
      "Epoch 18/32\n",
      "\u001b[1m31/31\u001b[0m \u001b[32m━━━━━━━━━━━━━━━━━━━━\u001b[0m\u001b[37m\u001b[0m \u001b[1m2s\u001b[0m 57ms/step - accuracy: 0.9877 - loss: 0.1269 - val_accuracy: 0.4986 - val_loss: 2.2832\n",
      "Epoch 19/32\n",
      "\u001b[1m31/31\u001b[0m \u001b[32m━━━━━━━━━━━━━━━━━━━━\u001b[0m\u001b[37m\u001b[0m \u001b[1m3s\u001b[0m 57ms/step - accuracy: 0.9893 - loss: 0.1203 - val_accuracy: 0.5000 - val_loss: 2.3143\n",
      "Epoch 20/32\n",
      "\u001b[1m31/31\u001b[0m \u001b[32m━━━━━━━━━━━━━━━━━━━━\u001b[0m\u001b[37m\u001b[0m \u001b[1m2s\u001b[0m 55ms/step - accuracy: 0.9866 - loss: 0.1196 - val_accuracy: 0.5101 - val_loss: 2.3163\n",
      "Epoch 21/32\n",
      "\u001b[1m31/31\u001b[0m \u001b[32m━━━━━━━━━━━━━━━━━━━━\u001b[0m\u001b[37m\u001b[0m \u001b[1m3s\u001b[0m 59ms/step - accuracy: 0.9868 - loss: 0.1196 - val_accuracy: 0.5072 - val_loss: 2.3337\n",
      "Epoch 22/32\n",
      "\u001b[1m31/31\u001b[0m \u001b[32m━━━━━━━━━━━━━━━━━━━━\u001b[0m\u001b[37m\u001b[0m \u001b[1m2s\u001b[0m 61ms/step - accuracy: 0.9878 - loss: 0.1163 - val_accuracy: 0.5130 - val_loss: 2.3408\n",
      "Epoch 23/32\n",
      "\u001b[1m31/31\u001b[0m \u001b[32m━━━━━━━━━━━━━━━━━━━━\u001b[0m\u001b[37m\u001b[0m \u001b[1m2s\u001b[0m 61ms/step - accuracy: 0.9882 - loss: 0.1185 - val_accuracy: 0.4957 - val_loss: 2.3460\n",
      "Epoch 24/32\n",
      "\u001b[1m31/31\u001b[0m \u001b[32m━━━━━━━━━━━━━━━━━━━━\u001b[0m\u001b[37m\u001b[0m \u001b[1m2s\u001b[0m 56ms/step - accuracy: 0.9862 - loss: 0.1193 - val_accuracy: 0.5087 - val_loss: 2.2957\n",
      "Epoch 25/32\n",
      "\u001b[1m31/31\u001b[0m \u001b[32m━━━━━━━━━━━━━━━━━━━━\u001b[0m\u001b[37m\u001b[0m \u001b[1m2s\u001b[0m 57ms/step - accuracy: 0.9889 - loss: 0.1126 - val_accuracy: 0.4870 - val_loss: 2.3982\n",
      "Epoch 26/32\n",
      "\u001b[1m31/31\u001b[0m \u001b[32m━━━━━━━━━━━━━━━━━━━━\u001b[0m\u001b[37m\u001b[0m \u001b[1m2s\u001b[0m 56ms/step - accuracy: 0.9853 - loss: 0.1183 - val_accuracy: 0.4652 - val_loss: 2.4511\n",
      "Epoch 27/32\n",
      "\u001b[1m31/31\u001b[0m \u001b[32m━━━━━━━━━━━━━━━━━━━━\u001b[0m\u001b[37m\u001b[0m \u001b[1m2s\u001b[0m 57ms/step - accuracy: 0.9869 - loss: 0.1180 - val_accuracy: 0.5087 - val_loss: 2.3359\n",
      "Epoch 28/32\n",
      "\u001b[1m31/31\u001b[0m \u001b[32m━━━━━━━━━━━━━━━━━━━━\u001b[0m\u001b[37m\u001b[0m \u001b[1m2s\u001b[0m 56ms/step - accuracy: 0.9908 - loss: 0.1046 - val_accuracy: 0.5014 - val_loss: 2.3037\n",
      "Epoch 29/32\n",
      "\u001b[1m31/31\u001b[0m \u001b[32m━━━━━━━━━━━━━━━━━━━━\u001b[0m\u001b[37m\u001b[0m \u001b[1m2s\u001b[0m 56ms/step - accuracy: 0.9895 - loss: 0.1071 - val_accuracy: 0.5101 - val_loss: 2.3313\n",
      "Epoch 30/32\n",
      "\u001b[1m31/31\u001b[0m \u001b[32m━━━━━━━━━━━━━━━━━━━━\u001b[0m\u001b[37m\u001b[0m \u001b[1m3s\u001b[0m 57ms/step - accuracy: 0.9926 - loss: 0.0910 - val_accuracy: 0.4971 - val_loss: 2.4417\n",
      "Epoch 31/32\n",
      "\u001b[1m31/31\u001b[0m \u001b[32m━━━━━━━━━━━━━━━━━━━━\u001b[0m\u001b[37m\u001b[0m \u001b[1m3s\u001b[0m 60ms/step - accuracy: 0.9860 - loss: 0.0991 - val_accuracy: 0.4928 - val_loss: 2.3945\n",
      "Epoch 32/32\n",
      "\u001b[1m31/31\u001b[0m \u001b[32m━━━━━━━━━━━━━━━━━━━━\u001b[0m\u001b[37m\u001b[0m \u001b[1m2s\u001b[0m 56ms/step - accuracy: 0.9897 - loss: 0.1070 - val_accuracy: 0.4884 - val_loss: 2.4778\n"
     ]
    }
   ],
   "source": [
    "# Assuming X_train_seq_pad and y_train_oh are your training data (sequences and one-hot encoded labels)\n",
    "history = model.fit(X_train_seq_pad, y_train_oh, epochs=32, batch_size=128,validation_data=(X_val_seq_pad, y_val_oh), shuffle=False)\n"
   ]
  },
  {
   "cell_type": "code",
   "execution_count": 41,
   "metadata": {
    "execution": {
     "iopub.execute_input": "2024-05-04T10:52:57.504273Z",
     "iopub.status.busy": "2024-05-04T10:52:57.503649Z",
     "iopub.status.idle": "2024-05-04T10:52:58.107969Z",
     "shell.execute_reply": "2024-05-04T10:52:58.107072Z",
     "shell.execute_reply.started": "2024-05-04T10:52:57.504231Z"
    }
   },
   "outputs": [
    {
     "name": "stdout",
     "output_type": "stream",
     "text": [
      "\u001b[1m26/26\u001b[0m \u001b[32m━━━━━━━━━━━━━━━━━━━━\u001b[0m\u001b[37m\u001b[0m \u001b[1m1s\u001b[0m 12ms/step\n"
     ]
    }
   ],
   "source": [
    "from sklearn.metrics import f1_score, precision_score, recall_score\n",
    "y_pred = model.predict(X_test_seq_pad)\n",
    "y_pred_classes = np.argmax(y_pred, axis=1)  # Assuming y_pred is one-hot encoded\n",
    "y_test_classes = le.inverse_transform(y_test_le)  # Convert back to original classes\n"
   ]
  },
  {
   "cell_type": "code",
   "execution_count": 42,
   "metadata": {
    "execution": {
     "iopub.execute_input": "2024-05-04T10:52:58.204681Z",
     "iopub.status.busy": "2024-05-04T10:52:58.203458Z",
     "iopub.status.idle": "2024-05-04T10:52:58.221474Z",
     "shell.execute_reply": "2024-05-04T10:52:58.220390Z",
     "shell.execute_reply.started": "2024-05-04T10:52:58.204636Z"
    }
   },
   "outputs": [
    {
     "name": "stdout",
     "output_type": "stream",
     "text": [
      "F1 Score: 0.5071\n",
      "Precision: 0.5156\n",
      "Recall: 0.5039\n"
     ]
    }
   ],
   "source": [
    "f1 = f1_score(y_test_classes, y_pred_classes, average='macro')  # Macro averaging for imbalanced data (optional)\n",
    "precision = precision_score(y_test_classes, y_pred_classes, average='macro')  # Macro averaging\n",
    "recall = recall_score(y_test_classes, y_pred_classes, average='macro')  # Macro averaging\n",
    "\n",
    "print(f\"F1 Score: {f1:.4f}\")\n",
    "print(f\"Precision: {precision:.4f}\")\n",
    "print(f\"Recall: {recall:.4f}\")\n"
   ]
  },
  {
   "cell_type": "code",
   "execution_count": null,
   "metadata": {
    "colab": {
     "base_uri": "https://localhost:8080/",
     "height": 255
    },
    "colab_type": "code",
    "execution": {
     "iopub.status.busy": "2024-05-04T10:52:29.967896Z",
     "iopub.status.idle": "2024-05-04T10:52:29.968793Z",
     "shell.execute_reply": "2024-05-04T10:52:29.968587Z",
     "shell.execute_reply.started": "2024-05-04T10:52:29.968568Z"
    },
    "id": "jJMNuByCRbBL",
    "outputId": "8c37a135-8696-4aec-e375-86bbb7eef8dc"
   },
   "outputs": [],
   "source": [
    "model.summary()\n"
   ]
  },
  {
   "cell_type": "code",
   "execution_count": null,
   "metadata": {
    "colab": {
     "base_uri": "https://localhost:8080/",
     "height": 68
    },
    "colab_type": "code",
    "execution": {
     "iopub.status.busy": "2024-05-04T10:52:29.970013Z",
     "iopub.status.idle": "2024-05-04T10:52:29.970392Z",
     "shell.execute_reply": "2024-05-04T10:52:29.970223Z",
     "shell.execute_reply.started": "2024-05-04T10:52:29.970209Z"
    },
    "id": "k6YKpCP3NQrd",
    "outputId": "5ebe8afa-0fbe-46d3-94f3-851bdcf56ac7"
   },
   "outputs": [],
   "source": [
    "results = model.evaluate(X_test_seq_pad, y_test_oh)\n",
    "print('/n')\n",
    "print('Test accuracy of word embeddings model: {0:.2f}%'.format(results[1]*100))"
   ]
  },
  {
   "cell_type": "code",
   "execution_count": null,
   "metadata": {
    "colab": {
     "base_uri": "https://localhost:8080/",
     "height": 68
    },
    "colab_type": "code",
    "execution": {
     "iopub.status.busy": "2024-05-04T10:52:29.971369Z",
     "iopub.status.idle": "2024-05-04T10:52:29.971713Z",
     "shell.execute_reply": "2024-05-04T10:52:29.971559Z",
     "shell.execute_reply.started": "2024-05-04T10:52:29.971545Z"
    },
    "id": "uQm45MSMHy9O",
    "outputId": "610a24af-a45d-4323-baaa-ca604cfe4a42"
   },
   "outputs": [],
   "source": [
    "results = model.evaluate(X_val_seq_pad, y_val_oh)\n",
    "print('/n')\n",
    "print('Validation accuracy of word embeddings model: {0:.2f}%'.format(results[1]*100))"
   ]
  },
  {
   "cell_type": "code",
   "execution_count": null,
   "metadata": {
    "colab": {},
    "colab_type": "code",
    "id": "f6Ur8gO9J147"
   },
   "outputs": [],
   "source": []
  },
  {
   "cell_type": "code",
   "execution_count": null,
   "metadata": {},
   "outputs": [],
   "source": []
  }
 ],
 "metadata": {
  "accelerator": "GPU",
  "colab": {
   "authorship_tag": "ABX9TyMQ5we7Aqxtr1Fp5MWTm4e6",
   "collapsed_sections": [],
   "include_colab_link": true,
   "name": "Hindi sentiment analysis.ipynb",
   "provenance": []
  },
  "kaggle": {
   "accelerator": "none",
   "dataSources": [
    {
     "datasetId": 4937001,
     "sourceId": 8310823,
     "sourceType": "datasetVersion"
    }
   ],
   "dockerImageVersionId": 30698,
   "isGpuEnabled": false,
   "isInternetEnabled": true,
   "language": "python",
   "sourceType": "notebook"
  },
  "kernelspec": {
   "display_name": "Python 3 (ipykernel)",
   "language": "python",
   "name": "python3"
  },
  "language_info": {
   "codemirror_mode": {
    "name": "ipython",
    "version": 3
   },
   "file_extension": ".py",
   "mimetype": "text/x-python",
   "name": "python",
   "nbconvert_exporter": "python",
   "pygments_lexer": "ipython3",
   "version": "3.11.1"
  }
 },
 "nbformat": 4,
 "nbformat_minor": 4
}
